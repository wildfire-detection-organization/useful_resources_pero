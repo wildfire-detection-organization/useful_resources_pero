{
 "cells": [
  {
   "cell_type": "markdown",
   "metadata": {},
   "source": [
    "# This document explains how to use Rasterio to read spatial data files.\n",
    "More detailed example can be found in [rasterio docs](https://rasterio.readthedocs.io/en/latest/quickstart.html#python-quickstart)."
   ]
  },
  {
   "cell_type": "markdown",
   "metadata": {},
   "source": [
    "Import rasterio to begin."
   ]
  },
  {
   "cell_type": "code",
   "execution_count": 4,
   "metadata": {},
   "outputs": [],
   "source": [
    "import rasterio"
   ]
  },
  {
   "cell_type": "markdown",
   "metadata": {},
   "source": [
    "Define data directory."
   ]
  },
  {
   "cell_type": "code",
   "execution_count": 12,
   "metadata": {},
   "outputs": [
    {
     "data": {
      "text/plain": [
       "['20180124_d2da9993-e10d-4aac-af5c-f160764c787d_ndvi.tif',\n",
       " '20180127_8a122447-3084-4705-b93a-323fa58cc655_ndvi.tif',\n",
       " '20180124_d2da9993-e10d-4aac-af5c-f160764c787d_ndvi_color.tif',\n",
       " '20180308_2995832d-5633-46b3-99c2-3a660df1c96b_ndvi_color.tif',\n",
       " '20180127_8a122447-3084-4705-b93a-323fa58cc655_rgb.tif',\n",
       " '20180114_a545f123-9f9b-4274-b2bd-8c34fb226234_ndvi_color.tif',\n",
       " '20180305_bbaf32e1-a995-41fb-bb83-71f90c08a6c8_ndvi_color.tif',\n",
       " '20180119_2b0b2695-c5cd-4bb9-845b-55240acfe779_ndvi.tif',\n",
       " '20180119_2b0b2695-c5cd-4bb9-845b-55240acfe779_ndvi_color.tif',\n",
       " '20180119_2b0b2695-c5cd-4bb9-845b-55240acfe779_rgb.tif',\n",
       " '20180114_a545f123-9f9b-4274-b2bd-8c34fb226234_ndvi.tif',\n",
       " '20180305_7721ec93-ce4b-4274-9490-728b84894fb7_rgb.tif',\n",
       " '20180114_a545f123-9f9b-4274-b2bd-8c34fb226234_rgb.tif',\n",
       " '20180127_8a122447-3084-4705-b93a-323fa58cc655_ndvi_color.tif',\n",
       " '20180124_6af9c6ad-3ea8-41c6-ab0f-75a94b2e5637_rgb.tif',\n",
       " '20180305_bbaf32e1-a995-41fb-bb83-71f90c08a6c8_rgb.tif',\n",
       " '20180325_ff3663a8-5def-448d-8c2b-ce602806817e_ndvi.tif',\n",
       " '20180305_bbaf32e1-a995-41fb-bb83-71f90c08a6c8_ndvi.tif',\n",
       " '20180308_2995832d-5633-46b3-99c2-3a660df1c96b_rgb.tif',\n",
       " '20180124_6af9c6ad-3ea8-41c6-ab0f-75a94b2e5637_ndvi.tif',\n",
       " '20180325_ff3663a8-5def-448d-8c2b-ce602806817e_ndvi_color.tif',\n",
       " '20180124_6af9c6ad-3ea8-41c6-ab0f-75a94b2e5637_ndvi_color.tif',\n",
       " '20180308_2995832d-5633-46b3-99c2-3a660df1c96b_ndvi.tif',\n",
       " '20180305_7721ec93-ce4b-4274-9490-728b84894fb7_ndvi_color.tif',\n",
       " '20180124_d2da9993-e10d-4aac-af5c-f160764c787d_rgb.tif',\n",
       " '20180325_ff3663a8-5def-448d-8c2b-ce602806817e_rgb.tif',\n",
       " '20180305_7721ec93-ce4b-4274-9490-728b84894fb7_ndvi.tif']"
      ]
     },
     "execution_count": 12,
     "metadata": {},
     "output_type": "execute_result"
    }
   ],
   "source": [
    "import os\n",
    "data_dir = f'{os.getenv(\"HOME\")}/university/s2_images'\n",
    "os.listdir(data_dir)"
   ]
  },
  {
   "cell_type": "markdown",
   "metadata": {},
   "source": [
    "Choose file."
   ]
  },
  {
   "cell_type": "code",
   "execution_count": 15,
   "metadata": {},
   "outputs": [],
   "source": [
    "file_name = '20180305_bbaf32e1-a995-41fb-bb83-71f90c08a6c8_rgb.tif'\n",
    "file_path = os.path.join(data_dir,file_name)"
   ]
  },
  {
   "cell_type": "markdown",
   "metadata": {},
   "source": [
    "Next, open the file."
   ]
  },
  {
   "cell_type": "code",
   "execution_count": 17,
   "metadata": {},
   "outputs": [],
   "source": [
    "dataset = rasterio.open(file_path)"
   ]
  },
  {
   "cell_type": "code",
   "execution_count": 18,
   "metadata": {},
   "outputs": [
    {
     "data": {
      "text/plain": [
       "'/home/ruslan/university/s2_images/20180305_bbaf32e1-a995-41fb-bb83-71f90c08a6c8_rgb.tif'"
      ]
     },
     "execution_count": 18,
     "metadata": {},
     "output_type": "execute_result"
    }
   ],
   "source": [
    "dataset.name"
   ]
  },
  {
   "cell_type": "code",
   "execution_count": 19,
   "metadata": {},
   "outputs": [
    {
     "data": {
      "text/plain": [
       "'r'"
      ]
     },
     "execution_count": 19,
     "metadata": {},
     "output_type": "execute_result"
    }
   ],
   "source": [
    "dataset.mode"
   ]
  },
  {
   "cell_type": "code",
   "execution_count": 20,
   "metadata": {},
   "outputs": [
    {
     "data": {
      "text/plain": [
       "False"
      ]
     },
     "execution_count": 20,
     "metadata": {},
     "output_type": "execute_result"
    }
   ],
   "source": [
    "dataset.closed"
   ]
  },
  {
   "cell_type": "markdown",
   "metadata": {},
   "source": [
    "Properties of the raster data stored in the example GeoTIFF can be accessed through attributes of the opened dataset object. Dataset objects have bands and this example has a band count of 3"
   ]
  },
  {
   "cell_type": "code",
   "execution_count": 21,
   "metadata": {},
   "outputs": [
    {
     "data": {
      "text/plain": [
       "3"
      ]
     },
     "execution_count": 21,
     "metadata": {},
     "output_type": "execute_result"
    }
   ],
   "source": [
    "dataset.count"
   ]
  },
  {
   "cell_type": "code",
   "execution_count": 22,
   "metadata": {},
   "outputs": [
    {
     "data": {
      "text/plain": [
       "10980"
      ]
     },
     "execution_count": 22,
     "metadata": {},
     "output_type": "execute_result"
    }
   ],
   "source": [
    "dataset.width"
   ]
  },
  {
   "cell_type": "code",
   "execution_count": 23,
   "metadata": {},
   "outputs": [
    {
     "data": {
      "text/plain": [
       "10980"
      ]
     },
     "execution_count": 23,
     "metadata": {},
     "output_type": "execute_result"
    }
   ],
   "source": [
    "dataset.height"
   ]
  },
  {
   "cell_type": "markdown",
   "metadata": {},
   "source": [
    "Some dataset attributes expose the properties of all dataset bands via a tuple of values, one per band. To get a mapping of band indexes to variable data types, apply a dictionary comprehension"
   ]
  },
  {
   "cell_type": "code",
   "execution_count": 24,
   "metadata": {},
   "outputs": [
    {
     "data": {
      "text/plain": [
       "{1: 'uint8', 2: 'uint8', 3: 'uint8'}"
      ]
     },
     "execution_count": 24,
     "metadata": {},
     "output_type": "execute_result"
    }
   ],
   "source": [
    "{i: dtype for i, dtype in zip(dataset.indexes, dataset.dtypes)}"
   ]
  },
  {
   "cell_type": "markdown",
   "metadata": {},
   "source": [
    "## Dataset georeferencing\n",
    "A GIS raster dataset is different from an ordinary image; its elements (or “pixels”) are mapped to regions on the earth’s surface. Every pixels of a dataset is contained within a spatial bounding box."
   ]
  },
  {
   "cell_type": "code",
   "execution_count": 25,
   "metadata": {},
   "outputs": [
    {
     "data": {
      "text/plain": [
       "BoundingBox(left=699960.0, bottom=5290200.0, right=809760.0, top=5400000.0)"
      ]
     },
     "execution_count": 25,
     "metadata": {},
     "output_type": "execute_result"
    }
   ],
   "source": [
    "dataset.bounds"
   ]
  },
  {
   "cell_type": "markdown",
   "metadata": {},
   "source": [
    "The value of `bounds` attribute is derived from a more fundamental attribute: the dataset’s geospatial transform."
   ]
  },
  {
   "cell_type": "code",
   "execution_count": 26,
   "metadata": {},
   "outputs": [
    {
     "data": {
      "text/plain": [
       "Affine(10.0, 0.0, 699960.0,\n",
       "       0.0, -10.0, 5400000.0)"
      ]
     },
     "execution_count": 26,
     "metadata": {},
     "output_type": "execute_result"
    }
   ],
   "source": [
    "dataset.transform"
   ]
  },
  {
   "cell_type": "markdown",
   "metadata": {},
   "source": [
    "A dataset’s transform is an affine transformation matrix that maps pixel locations in (row, col) coordinates to (x, y) spatial positions. The product of this matrix and (0, 0), the row and column coordinates of the upper left corner of the dataset, is the spatial position of the upper left corner."
   ]
  },
  {
   "cell_type": "code",
   "execution_count": 27,
   "metadata": {},
   "outputs": [
    {
     "data": {
      "text/plain": [
       "(699960.0, 5400000.0)"
      ]
     },
     "execution_count": 27,
     "metadata": {},
     "output_type": "execute_result"
    }
   ],
   "source": [
    "dataset.transform * (0, 0)"
   ]
  },
  {
   "cell_type": "markdown",
   "metadata": {},
   "source": [
    "The position of the lower right corner is obtained similarly."
   ]
  },
  {
   "cell_type": "code",
   "execution_count": 28,
   "metadata": {},
   "outputs": [
    {
     "data": {
      "text/plain": [
       "(809760.0, 5290200.0)"
      ]
     },
     "execution_count": 28,
     "metadata": {},
     "output_type": "execute_result"
    }
   ],
   "source": [
    "dataset.transform * (dataset.width, dataset.height)"
   ]
  },
  {
   "cell_type": "markdown",
   "metadata": {},
   "source": [
    "But what do these numbers mean? These coordinate values are relative to the origin of the dataset’s coordinate reference system (CRS)."
   ]
  },
  {
   "cell_type": "code",
   "execution_count": 29,
   "metadata": {},
   "outputs": [
    {
     "data": {
      "text/plain": [
       "CRS.from_dict(init='epsg:32634')"
      ]
     },
     "execution_count": 29,
     "metadata": {},
     "output_type": "execute_result"
    }
   ],
   "source": [
    "dataset.crs"
   ]
  },
  {
   "cell_type": "markdown",
   "metadata": {},
   "source": [
    "## Reading raster data"
   ]
  },
  {
   "cell_type": "markdown",
   "metadata": {},
   "source": [
    "Data from a raster band can be accessed by the band’s index number. Following the GDAL convention, bands are indexed from 1."
   ]
  },
  {
   "cell_type": "code",
   "execution_count": 30,
   "metadata": {},
   "outputs": [
    {
     "data": {
      "text/plain": [
       "(1, 2, 3)"
      ]
     },
     "execution_count": 30,
     "metadata": {},
     "output_type": "execute_result"
    }
   ],
   "source": [
    "dataset.indexes"
   ]
  },
  {
   "cell_type": "code",
   "execution_count": 31,
   "metadata": {},
   "outputs": [],
   "source": [
    "band1 = dataset.read(1)"
   ]
  },
  {
   "cell_type": "code",
   "execution_count": 32,
   "metadata": {},
   "outputs": [
    {
     "data": {
      "text/plain": [
       "array([[228, 255, 255, ..., 255, 255, 255],\n",
       "       [198, 136, 141, ..., 255, 255, 255],\n",
       "       [125, 108,  87, ..., 255, 255, 255],\n",
       "       ...,\n",
       "       [255, 255, 255, ...,  25,  29,  27],\n",
       "       [255, 255, 255, ...,  29,  30,  28],\n",
       "       [  0, 255, 255, ...,  33,  31,  31]], dtype=uint8)"
      ]
     },
     "execution_count": 32,
     "metadata": {},
     "output_type": "execute_result"
    }
   ],
   "source": [
    "band1"
   ]
  },
  {
   "cell_type": "markdown",
   "metadata": {},
   "source": [
    "## Spatial indexing\n",
    "Datasets have an `index()` method for getting the array indices corresponding to points in georeferenced space. To get the value for the pixel 100 kilometers east and 50 kilometers south of the dataset’s upper left corner, do the following."
   ]
  },
  {
   "cell_type": "code",
   "execution_count": 37,
   "metadata": {},
   "outputs": [
    {
     "data": {
      "text/plain": [
       "(799960.0, 5350000.0)"
      ]
     },
     "execution_count": 37,
     "metadata": {},
     "output_type": "execute_result"
    }
   ],
   "source": [
    "x, y = (dataset.bounds.left + 100000, dataset.bounds.top - 50000)\n",
    "x,y"
   ]
  },
  {
   "cell_type": "code",
   "execution_count": 38,
   "metadata": {},
   "outputs": [],
   "source": [
    "row, col = dataset.index(x, y)"
   ]
  },
  {
   "cell_type": "code",
   "execution_count": 39,
   "metadata": {},
   "outputs": [
    {
     "data": {
      "text/plain": [
       "(5000, 10000)"
      ]
     },
     "execution_count": 39,
     "metadata": {},
     "output_type": "execute_result"
    }
   ],
   "source": [
    "row, col"
   ]
  },
  {
   "cell_type": "code",
   "execution_count": 40,
   "metadata": {},
   "outputs": [
    {
     "data": {
      "text/plain": [
       "255"
      ]
     },
     "execution_count": 40,
     "metadata": {},
     "output_type": "execute_result"
    }
   ],
   "source": [
    "band1[row, col]"
   ]
  },
  {
   "cell_type": "markdown",
   "metadata": {},
   "source": [
    "To get the spatial coordinates of a pixel, use the dataset’s `xy()` method. The coordinates of the center of the image can be computed like this."
   ]
  },
  {
   "cell_type": "code",
   "execution_count": 41,
   "metadata": {},
   "outputs": [
    {
     "data": {
      "text/plain": [
       "(754865.0, 5345095.0)"
      ]
     },
     "execution_count": 41,
     "metadata": {},
     "output_type": "execute_result"
    }
   ],
   "source": [
    "dataset.xy(dataset.height // 2, dataset.width // 2)"
   ]
  },
  {
   "cell_type": "code",
   "execution_count": 43,
   "metadata": {},
   "outputs": [],
   "source": [
    "dataset.close()"
   ]
  },
  {
   "cell_type": "code",
   "execution_count": 44,
   "metadata": {},
   "outputs": [
    {
     "data": {
      "text/plain": [
       "True"
      ]
     },
     "execution_count": 44,
     "metadata": {},
     "output_type": "execute_result"
    }
   ],
   "source": [
    "dataset.closed"
   ]
  },
  {
   "cell_type": "code",
   "execution_count": null,
   "metadata": {},
   "outputs": [],
   "source": []
  }
 ],
 "metadata": {
  "kernelspec": {
   "display_name": "PyCharm (burned_area_detection)",
   "language": "python",
   "name": "pycharm-5e8d5308"
  },
  "language_info": {
   "codemirror_mode": {
    "name": "ipython",
    "version": 3
   },
   "file_extension": ".py",
   "mimetype": "text/x-python",
   "name": "python",
   "nbconvert_exporter": "python",
   "pygments_lexer": "ipython3",
   "version": "3.6.5"
  }
 },
 "nbformat": 4,
 "nbformat_minor": 2
}
